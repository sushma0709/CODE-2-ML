{
 "cells": [
  {
   "cell_type": "code",
   "execution_count": 4,
   "metadata": {},
   "outputs": [],
   "source": [
    "import numpy as np\n",
    "import pandas as pd\n",
    "import matplotlib.pyplot as plt"
   ]
  },
  {
   "cell_type": "code",
   "execution_count": 6,
   "metadata": {},
   "outputs": [
    {
     "data": {
      "text/html": [
       "<div>\n",
       "<style scoped>\n",
       "    .dataframe tbody tr th:only-of-type {\n",
       "        vertical-align: middle;\n",
       "    }\n",
       "\n",
       "    .dataframe tbody tr th {\n",
       "        vertical-align: top;\n",
       "    }\n",
       "\n",
       "    .dataframe thead th {\n",
       "        text-align: right;\n",
       "    }\n",
       "</style>\n",
       "<table border=\"1\" class=\"dataframe\">\n",
       "  <thead>\n",
       "    <tr style=\"text-align: right;\">\n",
       "      <th></th>\n",
       "      <th>Stock Index</th>\n",
       "      <th>10-Aug</th>\n",
       "      <th>11-Aug</th>\n",
       "      <th>12-Aug</th>\n",
       "      <th>13-Aug</th>\n",
       "      <th>14-Aug</th>\n",
       "      <th>15-Aug</th>\n",
       "    </tr>\n",
       "  </thead>\n",
       "  <tbody>\n",
       "    <tr>\n",
       "      <th>0</th>\n",
       "      <td>AC3235</td>\n",
       "      <td>0.80</td>\n",
       "      <td>0.660</td>\n",
       "      <td>0.77240</td>\n",
       "      <td>0.983224</td>\n",
       "      <td>0.901211</td>\n",
       "      <td>0.898368</td>\n",
       "    </tr>\n",
       "    <tr>\n",
       "      <th>1</th>\n",
       "      <td>AC3236</td>\n",
       "      <td>0.86</td>\n",
       "      <td>0.732</td>\n",
       "      <td>0.85448</td>\n",
       "      <td>1.086645</td>\n",
       "      <td>1.017042</td>\n",
       "      <td>1.029258</td>\n",
       "    </tr>\n",
       "    <tr>\n",
       "      <th>2</th>\n",
       "      <td>AC3237</td>\n",
       "      <td>0.93</td>\n",
       "      <td>0.816</td>\n",
       "      <td>0.95024</td>\n",
       "      <td>1.207302</td>\n",
       "      <td>NaN</td>\n",
       "      <td>1.181962</td>\n",
       "    </tr>\n",
       "    <tr>\n",
       "      <th>3</th>\n",
       "      <td>AC3238</td>\n",
       "      <td>1.09</td>\n",
       "      <td>1.008</td>\n",
       "      <td>1.16912</td>\n",
       "      <td>1.483091</td>\n",
       "      <td>1.461062</td>\n",
       "      <td>1.531000</td>\n",
       "    </tr>\n",
       "    <tr>\n",
       "      <th>4</th>\n",
       "      <td>AC3239</td>\n",
       "      <td>NaN</td>\n",
       "      <td>1.104</td>\n",
       "      <td>1.27856</td>\n",
       "      <td>1.620986</td>\n",
       "      <td>1.615504</td>\n",
       "      <td>1.705519</td>\n",
       "    </tr>\n",
       "  </tbody>\n",
       "</table>\n",
       "</div>"
      ],
      "text/plain": [
       "  Stock Index  10-Aug  11-Aug   12-Aug    13-Aug    14-Aug    15-Aug\n",
       "0      AC3235    0.80   0.660  0.77240  0.983224  0.901211  0.898368\n",
       "1      AC3236    0.86   0.732  0.85448  1.086645  1.017042  1.029258\n",
       "2      AC3237    0.93   0.816  0.95024  1.207302       NaN  1.181962\n",
       "3      AC3238    1.09   1.008  1.16912  1.483091  1.461062  1.531000\n",
       "4      AC3239     NaN   1.104  1.27856  1.620986  1.615504  1.705519"
      ]
     },
     "execution_count": 6,
     "metadata": {},
     "output_type": "execute_result"
    }
   ],
   "source": [
    "df=pd.read_csv(\"Test_dataset.csv\")\n",
    "df.head(5)"
   ]
  },
  {
   "cell_type": "code",
   "execution_count": 7,
   "metadata": {},
   "outputs": [
    {
     "data": {
      "text/plain": [
       "(3331, 7)"
      ]
     },
     "execution_count": 7,
     "metadata": {},
     "output_type": "execute_result"
    }
   ],
   "source": [
    "df.shape"
   ]
  },
  {
   "cell_type": "code",
   "execution_count": 8,
   "metadata": {},
   "outputs": [
    {
     "data": {
      "text/plain": [
       "Stock Index      0\n",
       "10-Aug         429\n",
       "11-Aug           2\n",
       "12-Aug          57\n",
       "13-Aug          14\n",
       "14-Aug         105\n",
       "15-Aug         239\n",
       "dtype: int64"
      ]
     },
     "execution_count": 8,
     "metadata": {},
     "output_type": "execute_result"
    }
   ],
   "source": [
    "df.isnull().sum()"
   ]
  },
  {
   "cell_type": "code",
   "execution_count": 11,
   "metadata": {},
   "outputs": [
    {
     "data": {
      "text/plain": [
       "(2715, 7)"
      ]
     },
     "execution_count": 11,
     "metadata": {},
     "output_type": "execute_result"
    }
   ],
   "source": [
    "df=df.dropna()\n",
    "df.shape"
   ]
  },
  {
   "cell_type": "code",
   "execution_count": null,
   "metadata": {},
   "outputs": [],
   "source": []
  }
 ],
 "metadata": {
  "kernelspec": {
   "display_name": "Python 3",
   "language": "python",
   "name": "python3"
  },
  "language_info": {
   "codemirror_mode": {
    "name": "ipython",
    "version": 3
   },
   "file_extension": ".py",
   "mimetype": "text/x-python",
   "name": "python",
   "nbconvert_exporter": "python",
   "pygments_lexer": "ipython3",
   "version": "3.8.3"
  }
 },
 "nbformat": 4,
 "nbformat_minor": 4
}
